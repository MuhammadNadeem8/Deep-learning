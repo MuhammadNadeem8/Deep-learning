{
 "cells": [
  {
   "cell_type": "code",
   "execution_count": 1,
   "id": "94c21629-3830-4a54-abf7-21036b5013e1",
   "metadata": {},
   "outputs": [
    {
     "name": "stdout",
     "output_type": "stream",
     "text": [
      "Requirement already satisfied: pypdf in c:\\users\\pmyls\\anaconda3\\lib\\site-packages (4.1.0)\n"
     ]
    }
   ],
   "source": [
    "!pip install pypdf\n"
   ]
  },
  {
   "cell_type": "code",
   "execution_count": 2,
   "id": "66bc0f28-5e6b-48d3-8117-d5d208791b8e",
   "metadata": {},
   "outputs": [],
   "source": [
    "from langchain_community.document_loaders import PyPDFLoader"
   ]
  },
  {
   "cell_type": "code",
   "execution_count": 4,
   "id": "34c22beb-b3ec-487a-a772-785b13ac45ff",
   "metadata": {},
   "outputs": [],
   "source": [
    "loader = PyPDFLoader(r\"C:\\Users\\PMYLS\\Downloads\\Semiconductor (chap#3) problems.pdf\")"
   ]
  },
  {
   "cell_type": "code",
   "execution_count": 5,
   "id": "99b1544d-1b5a-4fa8-aa2d-3ab380af1196",
   "metadata": {},
   "outputs": [
    {
     "data": {
      "text/plain": [
       "<langchain_community.document_loaders.pdf.PyPDFLoader at 0x1d512c61450>"
      ]
     },
     "execution_count": 5,
     "metadata": {},
     "output_type": "execute_result"
    }
   ],
   "source": [
    "loader"
   ]
  },
  {
   "cell_type": "code",
   "execution_count": 9,
   "id": "144cf62b-ce04-40c2-b3df-b2079bd9079b",
   "metadata": {},
   "outputs": [],
   "source": [
    "pages = loader.load_and_split()"
   ]
  },
  {
   "cell_type": "code",
   "execution_count": 10,
   "id": "2387ab6b-0933-4eac-bb60-62e35f4c7b23",
   "metadata": {},
   "outputs": [
    {
     "data": {
      "text/plain": [
       "[Document(page_content='CamScanner', metadata={'source': 'C:\\\\Users\\\\PMYLS\\\\Downloads\\\\Semiconductor (chap#3) problems.pdf', 'page': 0}),\n",
       " Document(page_content='CamScanner', metadata={'source': 'C:\\\\Users\\\\PMYLS\\\\Downloads\\\\Semiconductor (chap#3) problems.pdf', 'page': 1}),\n",
       " Document(page_content='CamScanner', metadata={'source': 'C:\\\\Users\\\\PMYLS\\\\Downloads\\\\Semiconductor (chap#3) problems.pdf', 'page': 2}),\n",
       " Document(page_content='CamScanner', metadata={'source': 'C:\\\\Users\\\\PMYLS\\\\Downloads\\\\Semiconductor (chap#3) problems.pdf', 'page': 3}),\n",
       " Document(page_content='CamScanner', metadata={'source': 'C:\\\\Users\\\\PMYLS\\\\Downloads\\\\Semiconductor (chap#3) problems.pdf', 'page': 4}),\n",
       " Document(page_content='CamScanner', metadata={'source': 'C:\\\\Users\\\\PMYLS\\\\Downloads\\\\Semiconductor (chap#3) problems.pdf', 'page': 5}),\n",
       " Document(page_content='CamScanner', metadata={'source': 'C:\\\\Users\\\\PMYLS\\\\Downloads\\\\Semiconductor (chap#3) problems.pdf', 'page': 6}),\n",
       " Document(page_content='CamScanner', metadata={'source': 'C:\\\\Users\\\\PMYLS\\\\Downloads\\\\Semiconductor (chap#3) problems.pdf', 'page': 7}),\n",
       " Document(page_content='CamScanner', metadata={'source': 'C:\\\\Users\\\\PMYLS\\\\Downloads\\\\Semiconductor (chap#3) problems.pdf', 'page': 8}),\n",
       " Document(page_content='CamScanner', metadata={'source': 'C:\\\\Users\\\\PMYLS\\\\Downloads\\\\Semiconductor (chap#3) problems.pdf', 'page': 9}),\n",
       " Document(page_content='CamScanner', metadata={'source': 'C:\\\\Users\\\\PMYLS\\\\Downloads\\\\Semiconductor (chap#3) problems.pdf', 'page': 10}),\n",
       " Document(page_content='CamScanner', metadata={'source': 'C:\\\\Users\\\\PMYLS\\\\Downloads\\\\Semiconductor (chap#3) problems.pdf', 'page': 11}),\n",
       " Document(page_content='CamScanner', metadata={'source': 'C:\\\\Users\\\\PMYLS\\\\Downloads\\\\Semiconductor (chap#3) problems.pdf', 'page': 12}),\n",
       " Document(page_content='CamScanner', metadata={'source': 'C:\\\\Users\\\\PMYLS\\\\Downloads\\\\Semiconductor (chap#3) problems.pdf', 'page': 13}),\n",
       " Document(page_content='CamScanner', metadata={'source': 'C:\\\\Users\\\\PMYLS\\\\Downloads\\\\Semiconductor (chap#3) problems.pdf', 'page': 14}),\n",
       " Document(page_content='CamScanner', metadata={'source': 'C:\\\\Users\\\\PMYLS\\\\Downloads\\\\Semiconductor (chap#3) problems.pdf', 'page': 15}),\n",
       " Document(page_content='CamScanner', metadata={'source': 'C:\\\\Users\\\\PMYLS\\\\Downloads\\\\Semiconductor (chap#3) problems.pdf', 'page': 16}),\n",
       " Document(page_content='CamScanner', metadata={'source': 'C:\\\\Users\\\\PMYLS\\\\Downloads\\\\Semiconductor (chap#3) problems.pdf', 'page': 17}),\n",
       " Document(page_content='CamScanner', metadata={'source': 'C:\\\\Users\\\\PMYLS\\\\Downloads\\\\Semiconductor (chap#3) problems.pdf', 'page': 18}),\n",
       " Document(page_content='CamScanner', metadata={'source': 'C:\\\\Users\\\\PMYLS\\\\Downloads\\\\Semiconductor (chap#3) problems.pdf', 'page': 19}),\n",
       " Document(page_content='CamScanner', metadata={'source': 'C:\\\\Users\\\\PMYLS\\\\Downloads\\\\Semiconductor (chap#3) problems.pdf', 'page': 20}),\n",
       " Document(page_content='CamScanner', metadata={'source': 'C:\\\\Users\\\\PMYLS\\\\Downloads\\\\Semiconductor (chap#3) problems.pdf', 'page': 21})]"
      ]
     },
     "execution_count": 10,
     "metadata": {},
     "output_type": "execute_result"
    }
   ],
   "source": [
    "pages"
   ]
  },
  {
   "cell_type": "markdown",
   "id": "1a33dbd3-47d7-44b8-8ea6-afd6c14e5f00",
   "metadata": {},
   "source": [
    "And so on...."
   ]
  },
  {
   "cell_type": "markdown",
   "id": "df9be99a-05e2-458b-ad14-d7432ab1b18a",
   "metadata": {},
   "source": [
    "All are present inn this link https://python.langchain.com/docs/modules/data_connection/document_loaders/markdown"
   ]
  },
  {
   "cell_type": "code",
   "execution_count": null,
   "id": "3fe208c7-72fa-476c-817b-bbb2e5d8b2de",
   "metadata": {},
   "outputs": [],
   "source": []
  }
 ],
 "metadata": {
  "kernelspec": {
   "display_name": "Python 3 (ipykernel)",
   "language": "python",
   "name": "python3"
  },
  "language_info": {
   "codemirror_mode": {
    "name": "ipython",
    "version": 3
   },
   "file_extension": ".py",
   "mimetype": "text/x-python",
   "name": "python",
   "nbconvert_exporter": "python",
   "pygments_lexer": "ipython3",
   "version": "3.11.7"
  }
 },
 "nbformat": 4,
 "nbformat_minor": 5
}
